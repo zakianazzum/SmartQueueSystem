{
 "cells": [
  {
   "cell_type": "code",
   "execution_count": 5,
   "id": "230a5ab4",
   "metadata": {},
   "outputs": [],
   "source": [
    "import pandas as pd"
   ]
  },
  {
   "cell_type": "code",
   "execution_count": 6,
   "id": "3cbf3aaf",
   "metadata": {},
   "outputs": [],
   "source": [
    "bank_data = pd.read_csv(\"../data/bank_customer_data.csv\")"
   ]
  },
  {
   "cell_type": "code",
   "execution_count": 7,
   "id": "8f2b7efc",
   "metadata": {},
   "outputs": [
    {
     "name": "stdout",
     "output_type": "stream",
     "text": [
      "<class 'pandas.core.frame.DataFrame'>\n",
      "RangeIndex: 1000 entries, 0 to 999\n",
      "Data columns (total 7 columns):\n",
      " #   Column                   Non-Null Count  Dtype  \n",
      "---  ------                   --------------  -----  \n",
      " 0   branch_name              1000 non-null   object \n",
      " 1   service_type             1000 non-null   object \n",
      " 2   arrival_time             1000 non-null   object \n",
      " 3   day_of_week              1000 non-null   object \n",
      " 4   queue_length_at_arrival  1000 non-null   int64  \n",
      " 5   is_rush_hour             1000 non-null   object \n",
      " 6   wait_time_min            1000 non-null   float64\n",
      "dtypes: float64(1), int64(1), object(5)\n",
      "memory usage: 54.8+ KB\n"
     ]
    }
   ],
   "source": [
    "bank_data.info()"
   ]
  },
  {
   "cell_type": "code",
   "execution_count": null,
   "id": "f1fd0578",
   "metadata": {},
   "outputs": [],
   "source": [
    "# Converting data types\n",
    "bank_data['arrival_time'] = pd.to_datetime(bank_data['arrival_time'], format='%H:%M')\n",
    "\n"
   ]
  },
  {
   "cell_type": "code",
   "execution_count": 8,
   "id": "deb3129b",
   "metadata": {},
   "outputs": [
    {
     "data": {
      "text/plain": [
       "<Axes: >"
      ]
     },
     "execution_count": 8,
     "metadata": {},
     "output_type": "execute_result"
    },
    {
     "data": {
      "image/png": "[encoded data removed]",
      "text/plain": [
       "<Figure size 640x480 with 1 Axes>"
      ]
     },
     "metadata": {},
     "output_type": "display_data"
    }
   ],
   "source": [
    "bank_data.isnull().sum(axis=1).plot()"
   ]
  },
  {
   "cell_type": "code",
   "execution_count": 9,
   "id": "81f66e59",
   "metadata": {},
   "outputs": [
    {
     "name": "stdout",
     "output_type": "stream",
     "text": [
      "No duplicates\n"
     ]
    }
   ],
   "source": [
    "if bank_data.duplicated().sum() > 0:\n",
    "    print(\"Duplicate exits\")\n",
    "else:\n",
    "    print(\"No duplicates\")"
   ]
  },
  {
   "cell_type": "code",
   "execution_count": null,
   "id": "11b22687",
   "metadata": {},
   "outputs": [],
   "source": []
  }
 ],
 "metadata": {
  "kernelspec": {
   "display_name": "envAI",
   "language": "python",
   "name": "python3"
  },
  "language_info": {
   "codemirror_mode": {
    "name": "ipython",
    "version": 3
   },
   "file_extension": ".py",
   "mimetype": "text/x-python",
   "name": "python",
   "nbconvert_exporter": "python",
   "pygments_lexer": "ipython3",
   "version": "3.12.2"
  }
 },
 "nbformat": 4,
 "nbformat_minor": 5
}
